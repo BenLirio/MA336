{
  "nbformat": 4,
  "nbformat_minor": 0,
  "metadata": {
    "colab": {
      "name": "hw4.ipynb",
      "provenance": [],
      "collapsed_sections": [],
      "authorship_tag": "ABX9TyMmEIb1JnTkrhKXRwRKxANC",
      "include_colab_link": true
    },
    "kernelspec": {
      "name": "python3",
      "display_name": "Python 3"
    },
    "language_info": {
      "name": "python"
    }
  },
  "cells": [
    {
      "cell_type": "markdown",
      "metadata": {
        "id": "view-in-github",
        "colab_type": "text"
      },
      "source": [
        "<a href=\"https://colab.research.google.com/github/BenLirio/MA336/blob/master/notebooks/hw4.ipynb\" target=\"_parent\"><img src=\"https://colab.research.google.com/assets/colab-badge.svg\" alt=\"Open In Colab\"/></a>"
      ]
    },
    {
      "cell_type": "code",
      "source": [
        "from sympy import *"
      ],
      "metadata": {
        "id": "pOSPUB-EUrwQ"
      },
      "execution_count": 22,
      "outputs": []
    },
    {
      "cell_type": "markdown",
      "source": [
        "# 1"
      ],
      "metadata": {
        "id": "yaHAY3I8SL6q"
      }
    },
    {
      "cell_type": "markdown",
      "source": [
        "Using computational methods we get"
      ],
      "metadata": {
        "id": "0n_WA5exV9mJ"
      }
    },
    {
      "cell_type": "code",
      "source": [
        "def gcd(a,b):\n",
        "  if a != abs(a) or b != abs(b):\n",
        "    return gcd(abs(a), abs(b))\n",
        "  if a > b:\n",
        "    return gcd(b,a)\n",
        "  if a == 0:\n",
        "    return b\n",
        "  return gcd(b%a, a)\n",
        "\n",
        "def phi(n):\n",
        "  acc = 0\n",
        "  for i in range(0,n):\n",
        "    if gcd(i,n) == 1:\n",
        "      acc += 1\n",
        "  return acc\n"
      ],
      "metadata": {
        "id": "5nN80pYkSqVj"
      },
      "execution_count": 27,
      "outputs": []
    },
    {
      "cell_type": "markdown",
      "source": [
        "But symbolically we get"
      ],
      "metadata": {
        "id": "clr1cs18WCd4"
      }
    },
    {
      "cell_type": "code",
      "source": [
        "p = Symbol('p', prime=True)\n",
        "q = Symbol('q', prime=True)\n",
        "def phi(n):\n",
        "  if n.is_prime:\n",
        "    return n-1\n",
        "    "
      ],
      "metadata": {
        "id": "_miaMkWTWFsI",
        "outputId": "35645cbe-d0c0-40f3-d682-d638a3e9d652",
        "colab": {
          "base_uri": "https://localhost:8080/"
        }
      },
      "execution_count": 48,
      "outputs": [
        {
          "output_type": "execute_result",
          "data": {
            "text/plain": [
              "True"
            ]
          },
          "metadata": {},
          "execution_count": 48
        }
      ]
    }
  ]
}